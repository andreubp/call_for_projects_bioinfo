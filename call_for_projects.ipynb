{
 "cells": [
  {
   "cell_type": "markdown",
   "metadata": {},
   "source": [
    "# CALL FOR PROJECTS MASTER BIOINFORMATICS"
   ]
  },
  {
   "cell_type": "code",
   "execution_count": 2,
   "metadata": {
    "collapsed": true
   },
   "outputs": [],
   "source": [
    "import sys,os,imp\n",
    "import pandas as pd\n",
    "import matplotlib.pyplot as plt\n",
    "import numpy as np"
   ]
  },
  {
   "cell_type": "markdown",
   "metadata": {},
   "source": [
    "## PATHS"
   ]
  },
  {
   "cell_type": "code",
   "execution_count": 8,
   "metadata": {},
   "outputs": [],
   "source": [
    "general_PATH = \"/home/abofill/Documents/00.GITHUB/call_for_projects_masterBIOINFO\"\n",
    "source = os.path.join(general_PATH,\"Call_for_projects.tsv\")\n",
    "results_PATH = os.path.join(general_PATH,\"results\")"
   ]
  },
  {
   "cell_type": "code",
   "execution_count": 9,
   "metadata": {},
   "outputs": [],
   "source": [
    "df = pd.DataFrame.from_csv(source,sep=\"\\t\")\n",
    "df = df.reset_index(drop=True)"
   ]
  },
  {
   "cell_type": "markdown",
   "metadata": {},
   "source": [
    "### RESULTS IN TXT"
   ]
  },
  {
   "cell_type": "code",
   "execution_count": 33,
   "metadata": {},
   "outputs": [],
   "source": [
    "for k,el in df.groupby('Field of Study'):\n",
    "    file_name = os.path.join(results_PATH,\"per_field\",k.replace(\" \",\"_\")+\"_table.xlsx\")\n",
    "    df[df['Field of Study'] == k][['Supervisor\\'s name','Institution','Group','Project\\'s Title']].to_excel(file_name,index=False)"
   ]
  },
  {
   "cell_type": "code",
   "execution_count": 34,
   "metadata": {
    "scrolled": true
   },
   "outputs": [
    {
     "name": "stdout",
     "output_type": "stream",
     "text": [
      "Computational genomics\n",
      "Computational systems biology\n",
      "Pharmacoinformatics & systems pharmacology\n",
      "Structural bioinformatics\n",
      "Web development & bioinformatic tools\n"
     ]
    }
   ],
   "source": [
    "all_f =os.path.join(results_PATH,\"projects.txt\")\n",
    "with open(all_f,'w') as all_opfile:\n",
    "    for k,el in df.groupby('Field of Study'):\n",
    "        print (k)\n",
    "        all_filename = os.path.join(results_PATH,'per_field',k.replace(\" \",\"_\")+\".txt\")\n",
    "        with open(all_filename, 'w') as opfile:\n",
    "            all_opfile.write(k+\"\\n\\n\")\n",
    "            for c,l in el.T.iteritems():\n",
    "                a= \"\"\"Group Information:\n",
    "\\tSupervisor: %s\n",
    "\\tGroup: %s\n",
    "\\tInstitution: %s\n",
    "\\tE-mail: %s\\n\"\"\" % (l['Supervisor\\'s name'],l['Group'],l['Institution'],l['Adreça electrònica'])\n",
    "                opfile.write(a)\n",
    "                all_opfile.write(a)\n",
    "\n",
    "                if type(l['Website']) != float:\n",
    "                    webs =  \"\"\"\\tWebsite: \"\"\"\n",
    "                    for web in l['Website'].split(\" \"):\n",
    "                        webs += \"\"\"%s\"\"\" %(web)\n",
    "                    opfile.write(webs)\n",
    "                    all_opfile.write(webs)\n",
    "                opfile.write(\"\"\"\\n\\n\\n\"\"\")\n",
    "                all_opfile.write(\"\"\"\\n\\n\\n\"\"\")\n",
    "\n",
    "                b = \"\"\"Field of study: %s \\n\\n\n",
    "Project Title:\\n%s\\n\n",
    "Keywords:\\n%s\\n\n",
    "Summary:\\n%s\\n\\n\"\"\" % (l['Field of Study'].upper(),l['Project\\'s Title'].capitalize(),l['Keywords'],l['Summary'])\n",
    "                opfile.write(b)\n",
    "                all_opfile.write(b)\n",
    "\n",
    "                if type(l['References']) != float:\n",
    "                    ref = \"\"\"References:\\n%s\\n\\n\"\"\" % (l['References'])\n",
    "                    opfile.write(ref)\n",
    "                    all_opfile.write(ref)\n",
    "\n",
    "                c = \"\"\"Expected skills:\\n%s \\n\\n\n",
    "Possibility of funding: %s \\n\\n\n",
    "Possible continuity with PhD: %s \\n\\n\"\"\" % (l['Skills required'],l['Funding'],l['Continuity with PhD'])\n",
    "                opfile.write(c)\n",
    "                all_opfile.write(c)\n",
    "\n",
    "                if type(l['Additional comments']) != float:\n",
    "                    comm = \"\"\"\\nComments:%s\\n\\n\"\"\" % (l['Additional comments'])\n",
    "                    all_opfile.write(comm)\n",
    "                all_opfile.write(\"\"\"\n",
    "                ________________________________________________________________________________\n",
    "                \\n\\n\\n\"\"\")"
   ]
  },
  {
   "cell_type": "markdown",
   "metadata": {},
   "source": [
    "### RESULTS IN HTML"
   ]
  },
  {
   "cell_type": "code",
   "execution_count": 35,
   "metadata": {},
   "outputs": [
    {
     "name": "stdout",
     "output_type": "stream",
     "text": [
      "Computational genomics\n",
      "Computational systems biology\n",
      "Pharmacoinformatics & systems pharmacology\n",
      "Structural bioinformatics\n",
      "Web development & bioinformatic tools\n"
     ]
    }
   ],
   "source": [
    "all_f =os.path.join(results_PATH,\"projects.html\")\n",
    "with open(all_f,'w') as all_opfile_total:\n",
    "    for k,el in df.groupby('Field of Study'):\n",
    "        print (k)\n",
    "        all_filename = os.path.join(results_PATH,'per_field',k.replace(\" \",\"_\")+\".html\")\n",
    "        with open(all_filename, 'w') as all_opfile:\n",
    "            for c,l in el.T.iteritems():\n",
    "                file_name = os.path.join(results_PATH,'individual',l['Supervisor\\'s name'].replace(\"/\",\"\").replace(\" \",\"_\")+\"_\"+str(c)+\".txt\")\n",
    "\n",
    "                with open(file_name,'w') as opfile:\n",
    "                    a= \"\"\"<html><head></head><body><strong>Group Information:</strong></br>\n",
    "                    &emsp<strong>Supervisor:</strong> %s <br/>\n",
    "                    &emsp<strong>Group:</strong> %s <br/>\n",
    "                    &emsp<strong>Institution:</strong> %s <br/>\n",
    "                    &emsp<strong>E-mail:</strong> <a href=\"%s\">%s</a><br/>\n",
    "                    \"\"\" % (l['Supervisor\\'s name'],l['Group'],l['Institution'],l['Adreça electrònica'],l['Adreça electrònica'])\n",
    "                \n",
    "                    opfile.write(a)\n",
    "                    all_opfile.write(a)\n",
    "                    all_opfile_total.write(a)\n",
    "    \n",
    "                    if type(l['Website']) != float:\n",
    "                        webs =  \"\"\"&emsp<strong>Website:</strong> \"\"\"\n",
    "                        for web in l['Website'].split(\" \"):\n",
    "                            webs += \"\"\"<a href=\"%s\">%s</a><br/>\"\"\" %(web,web)\n",
    "                        opfile.write(webs)\n",
    "                    opfile.write(\"\"\"<br><br><br>\"\"\")\n",
    "                    all_opfile.write(\"\"\"<br><br><br>\"\"\")\n",
    "                    all_opfile_total.write(\"\"\"<br><br><br>\"\"\")\n",
    "\n",
    "                    b = \"\"\"<strong>Field of study:</strong> %s <br><br>\n",
    "                    <strong>Project Title:</strong><br> %s <br><br>\n",
    "                    <strong>Keywords:</strong><br> %s <br><br>\n",
    "                    <strong>Summary:</strong><br> %s <br>\n",
    "                    \"\"\" % (l['Field of Study'].upper(),l['Project\\'s Title'].capitalize(),l['Keywords'],l['Summary'])\n",
    "                    opfile.write(b)\n",
    "                    all_opfile.write(b)\n",
    "                    all_opfile_total.write(b)\n",
    "\n",
    "                    if type(l['References']) != float:\n",
    "                        ref = \"\"\"<strong><br>References:</strong><br> %s <br/>\"\"\" % (l['References'])\n",
    "                        opfile.write(ref)\n",
    "                        all_opfile.write(ref)\n",
    "                        all_opfile_total.write(ref)\n",
    "\n",
    "                    c = \"\"\" <strong> <br>Expected skills: </strong> <br> %s <br><br>\n",
    "                    <strong> Possibility of funding: </strong> %s <br><br>\n",
    "                    <strong> Possible continuity with PhD: </strong> %s <br><br>\n",
    "                    \"\"\" % (l['Skills required'],l['Funding'],l['Continuity with PhD'])\n",
    "                    opfile.write(c)\n",
    "                    all_opfile.write(c)\n",
    "                    all_opfile_total.write(c)\n",
    "\n",
    "                    if type(l['Additional comments']) != float:\n",
    "                        comm = \"\"\"<br><strong>Comments:</strong><br>%s\"\"\" % (l['Additional comments'])\n",
    "                    opfile.write(\"\"\"</body></html>\"\"\")\n",
    "                    all_opfile.write(\"\"\"<br><br><br>\"\"\")\n",
    "                    all_opfile_total.write(\"\"\"<br><br><br>\"\"\")\n",
    "                all_opfile.write(\"\"\"</body></html>\"\"\")\n",
    "    all_opfile_total.write(\"\"\"</body></html>\"\"\")                "
   ]
  },
  {
   "cell_type": "markdown",
   "metadata": {},
   "source": [
    "## TO OBTAIN AN EXCEL WITH ALL FIELDS, INCLUDED THE DOCS.GOOGLE INDIVIDUAL LINK"
   ]
  },
  {
   "cell_type": "code",
   "execution_count": 28,
   "metadata": {
    "collapsed": true
   },
   "outputs": [],
   "source": [
    "df.to_excel(os.path.join(general_PATH,'all_projects_final_set.xls'),index=False)"
   ]
  }
 ],
 "metadata": {
  "kernelspec": {
   "display_name": "Python 3",
   "language": "python",
   "name": "python3"
  },
  "language_info": {
   "codemirror_mode": {
    "name": "ipython",
    "version": 3
   },
   "file_extension": ".py",
   "mimetype": "text/x-python",
   "name": "python",
   "nbconvert_exporter": "python",
   "pygments_lexer": "ipython3",
   "version": "3.6.4"
  }
 },
 "nbformat": 4,
 "nbformat_minor": 2
}
